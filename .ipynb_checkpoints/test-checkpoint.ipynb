{
 "cells": [
  {
   "cell_type": "code",
   "execution_count": null,
   "metadata": {},
   "outputs": [],
   "source": [
    "import multiprocessing\n",
    "import time\n",
    "\n",
    "def f(i,l):\n",
    "    #time.sleep(2)\n",
    "    l.append(i)\n",
    "\n",
    "#p = multiprocessing.Pool(4)\n",
    "if __name__ == '__main__':\n",
    "    multiprocessing.set_start_method('forkserver')\n",
    "    l = multiprocessing.Manager().list()\n",
    "    a = []\n",
    "    for _ in range(4):\n",
    "        with multiprocessing.Pool(4) as p:\n",
    "\n",
    "            for i in range(40):\n",
    "                p.apply_async(f, args=(i,l))\n",
    "            p.close()\n",
    "            p.join()\n",
    "        print(len(l))\n",
    "\n",
    "    print(a)\n",
    "    print(l)"
   ]
  },
  {
   "cell_type": "code",
   "execution_count": 1,
   "metadata": {},
   "outputs": [],
   "source": [
    "from MCTS import *\n",
    "from reversi import *\n",
    "\n"
   ]
  },
  {
   "cell_type": "code",
   "execution_count": 5,
   "metadata": {},
   "outputs": [],
   "source": [
    "from concurrent.futures import ThreadPoolExecutor, ProcessPoolExecutor\n",
    "import time\n",
    "executor = ThreadPoolExecutor(max_workers=4)\n",
    "\n",
    "def MCT_search1(board, mark):\n",
    "\n",
    "    positions = available_pos(board, mark)\n",
    "\n",
    "    #p = mp.Pool(4)\n",
    "    scores = []\n",
    "    with ProcessPoolExecutor(4) as executor: \n",
    "        for row, column in positions:\n",
    "            temp_board = np.copy(board)\n",
    "            set_position(temp_board, row, column, mark)\n",
    "            results = []\n",
    "\n",
    "            for _ in range(500):\n",
    "                # re = p.apply_async(self_play, args=(temp_board,mark))\n",
    "                # results.append(re.get())\n",
    "                results.append(executor.submit(self_play, temp_board,mark))\n",
    "\n",
    "            # p.close()\n",
    "            # p.join()\n",
    "            results = map(lambda x: x.result(), results)\n",
    "            scores.append(sum(results))\n",
    "\n",
    "\n",
    "    index = scores.index(max(scores))\n",
    "    row, column = positions[index]\n",
    "    set_position(board, row, column, mark)"
   ]
  },
  {
   "cell_type": "code",
   "execution_count": 6,
   "metadata": {},
   "outputs": [],
   "source": [
    "board = np.zeros([8,8], dtype='double')\n",
    "board[3][3] = 1\n",
    "board[4][4] = 1\n",
    "board[3][4] = -1\n",
    "board[4][3] = -1\n",
    "curr = 1"
   ]
  },
  {
   "cell_type": "code",
   "execution_count": 7,
   "metadata": {},
   "outputs": [
    {
     "name": "stdout",
     "output_type": "stream",
     "text": [
      "time: 7.228828\n",
      "time: 25.734361\n"
     ]
    }
   ],
   "source": [
    "import time\n",
    "\n",
    "start = time.time()\n",
    "for _ in range(1):\n",
    "    MCT_search1(board, curr)\n",
    "end = time.time()\n",
    "print('time: %.6f' %(end-start))\n",
    "\n",
    "board = np.zeros([8,8], dtype='double')\n",
    "board[3][3] = 1\n",
    "board[4][4] = 1\n",
    "board[3][4] = -1\n",
    "board[4][3] = -1\n",
    "curr = 1\n",
    "\n",
    "start = time.time()\n",
    "for _ in range(1):\n",
    "    MCT_search(board, curr)\n",
    "end = time.time()\n",
    "print('time: %.6f' %(end-start))"
   ]
  },
  {
   "cell_type": "code",
   "execution_count": 4,
   "metadata": {},
   "outputs": [
    {
     "ename": "AttributeError",
     "evalue": "'map' object has no attribute 'append'",
     "output_type": "error",
     "traceback": [
      "\u001b[0;31m---------------------------------------------------------------------------\u001b[0m",
      "\u001b[0;31mAttributeError\u001b[0m                            Traceback (most recent call last)",
      "\u001b[0;32m<ipython-input-4-668088bbef0f>\u001b[0m in \u001b[0;36m<module>\u001b[0;34m\u001b[0m\n\u001b[1;32m     11\u001b[0m \u001b[0;34m\u001b[0m\u001b[0m\n\u001b[1;32m     12\u001b[0m     \u001b[0;32mfor\u001b[0m \u001b[0m_\u001b[0m \u001b[0;32min\u001b[0m \u001b[0mrange\u001b[0m\u001b[0;34m(\u001b[0m\u001b[0;36m10\u001b[0m\u001b[0;34m)\u001b[0m\u001b[0;34m:\u001b[0m\u001b[0;34m\u001b[0m\u001b[0;34m\u001b[0m\u001b[0m\n\u001b[0;32m---> 13\u001b[0;31m         \u001b[0mre\u001b[0m\u001b[0;34m.\u001b[0m\u001b[0mappend\u001b[0m\u001b[0;34m(\u001b[0m\u001b[0mexecutor\u001b[0m\u001b[0;34m.\u001b[0m\u001b[0msubmit\u001b[0m\u001b[0;34m(\u001b[0m\u001b[0mf\u001b[0m\u001b[0;34m)\u001b[0m\u001b[0;34m)\u001b[0m\u001b[0;34m\u001b[0m\u001b[0;34m\u001b[0m\u001b[0m\n\u001b[0m\u001b[1;32m     14\u001b[0m     \u001b[0mre\u001b[0m \u001b[0;34m=\u001b[0m \u001b[0mmap\u001b[0m\u001b[0;34m(\u001b[0m\u001b[0;32mlambda\u001b[0m \u001b[0mx\u001b[0m\u001b[0;34m:\u001b[0m \u001b[0mx\u001b[0m\u001b[0;34m.\u001b[0m\u001b[0mget\u001b[0m\u001b[0;34m(\u001b[0m\u001b[0;34m)\u001b[0m\u001b[0;34m,\u001b[0m \u001b[0mre\u001b[0m\u001b[0;34m)\u001b[0m\u001b[0;34m\u001b[0m\u001b[0;34m\u001b[0m\u001b[0m\n\u001b[1;32m     15\u001b[0m \u001b[0;34m\u001b[0m\u001b[0m\n",
      "\u001b[0;31mAttributeError\u001b[0m: 'map' object has no attribute 'append'"
     ]
    }
   ],
   "source": [
    "from concurrent.futures import ThreadPoolExecutor, ProcessPoolExecutor\n",
    "\n",
    "def f():\n",
    "    return 0\n",
    "with ProcessPoolExecutor(4) as executor: \n",
    "    re = []\n",
    "    for _ in range(10):\n",
    "        re.append(executor.submit(f))\n",
    "    re = list(map(lambda x: x.get(), re))\n",
    "    \n",
    "\n",
    "    for _ in range(10):\n",
    "        re.append(executor.submit(f))\n",
    "    re = map(lambda x: x.get(), re)\n",
    "\n"
   ]
  },
  {
   "cell_type": "code",
   "execution_count": null,
   "metadata": {},
   "outputs": [],
   "source": []
  }
 ],
 "metadata": {
  "file_extension": ".py",
  "kernelspec": {
   "display_name": "Python 3",
   "language": "python",
   "name": "python3"
  },
  "language_info": {
   "codemirror_mode": {
    "name": "ipython",
    "version": 3
   },
   "file_extension": ".py",
   "mimetype": "text/x-python",
   "name": "python",
   "nbconvert_exporter": "python",
   "pygments_lexer": "ipython3",
   "version": "3.7.5"
  },
  "mimetype": "text/x-python",
  "name": "python",
  "npconvert_exporter": "python",
  "pygments_lexer": "ipython3",
  "version": 3
 },
 "nbformat": 4,
 "nbformat_minor": 2
}
