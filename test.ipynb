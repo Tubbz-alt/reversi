{
 "nbformat": 4,
 "nbformat_minor": 2,
 "metadata": {
  "language_info": {
   "name": "python",
   "codemirror_mode": {
    "name": "ipython",
    "version": 3
   },
   "version": "3.6.9"
  },
  "orig_nbformat": 2,
  "file_extension": ".py",
  "mimetype": "text/x-python",
  "name": "python",
  "npconvert_exporter": "python",
  "pygments_lexer": "ipython3",
  "version": 3
 },
 "cells": [
  {
   "cell_type": "code",
   "execution_count": null,
   "metadata": {},
   "outputs": [],
   "source": [
    "import multiprocessing\n",
    "import time\n",
    "\n",
    "def f(i,l):\n",
    "    #time.sleep(2)\n",
    "    l.append(i)\n",
    "\n",
    "#p = multiprocessing.Pool(4)\n",
    "if __name__ == '__main__':\n",
    "    multiprocessing.set_start_method('forkserver')\n",
    "    l = multiprocessing.Manager().list()\n",
    "    a = []\n",
    "    for _ in range(4):\n",
    "        with multiprocessing.Pool(4) as p:\n",
    "\n",
    "            for i in range(40):\n",
    "                p.apply_async(f, args=(i,l))\n",
    "            p.close()\n",
    "            p.join()\n",
    "        print(len(l))\n",
    "\n",
    "    print(a)\n",
    "    print(l)"
   ]
  },
  {
   "cell_type": "code",
   "execution_count": 66,
   "metadata": {},
   "outputs": [],
   "source": [
    "from reversi import *\n",
    "\n",
    "def available_pos(board, current):\n",
    "    possible_pos = []\n",
    "\n",
    "    for row in range(8):\n",
    "        for column in range(8):\n",
    "            if board[row][column] == 0:\n",
    "                board[row][column] = current\n",
    "                if check_position(board, row, column):\n",
    "                    possible_pos.append((row, column))\n",
    "                board[row][column] = 0\n",
    "\n",
    "    return possible_pos\n"
   ]
  },
  {
   "cell_type": "code",
   "execution_count": 70,
   "metadata": {},
   "outputs": [],
   "source": [
    "from concurrent.futures import ThreadPoolExecutor\n",
    "import time\n",
    "executor = ThreadPoolExecutor(max_workers=12)\n",
    "\n",
    "def check_direction1(board, row, column, mark, row_direc, col_direc):\n",
    "    non_curr = -mark\n",
    "    next_row = row + row_direc\n",
    "    next_column = column + col_direc\n",
    "\n",
    "    # if next_row<0 or next_row>7 or next_column<0 or next_column>7:\n",
    "    #     return False\n",
    "    \n",
    "    # if board[next_row][next_column] != non_curr:\n",
    "    #     return False\n",
    "\n",
    "    while board[next_row][next_column] == -mark:\n",
    "\n",
    "        next_row += row_direc\n",
    "        next_column += col_direc\n",
    "        if next_row<0 or next_row>7 or next_column<0 or next_column>7:\n",
    "            return False\n",
    "          \n",
    "    if board[next_row][next_column] == mark:\n",
    "        return True\n",
    "    \n",
    "    return False\n",
    "\n",
    "def check_position1(board, row, column, mark):\n",
    "\n",
    "        \n",
    "    if row+1<=7 and board[row+1][column]==-mark and check_direction1(board, row, column, mark, 1, 0):\n",
    "        return True\n",
    "\n",
    "    if row-1>=0 and column+1<=7 and board[row-1][column+1]==-mark and check_direction1(board, row, column, mark, -1, 1):\n",
    "        return True\n",
    "\n",
    "    if column+1<=7 and board[row][column+1]==-mark and check_direction1(board, row, column, mark, 0, 1):\n",
    "        return True\n",
    "\n",
    "    if row+1<=7 and column+1<=7 and board[row+1][column+1]==-mark and check_direction1(board, row, column, mark, 1, 1):\n",
    "        return True\n",
    "\n",
    "    if row-1>=0 and board[row-1][column]==-mark and check_direction1(board, row, column, mark, -1, 0):\n",
    "        return True\n",
    "\n",
    "    if row+1<=7 and column-1>=0 and board[row+1][column-1]==-mark and check_direction1(board, row, column, mark, 1, -1):\n",
    "        return True\n",
    "\n",
    "    if column-1>=0 and board[row][column-1]==-mark and check_direction1(board, row, column, mark, 0, -1):\n",
    "        return True\n",
    "\n",
    "    if row-1>=0 and column-1>=0 and board[row-1][column-1]==-mark and check_direction1(board, row, column, mark, -1, -1):\n",
    "        return True\n",
    "\n",
    "    return False\n",
    "\n",
    "def available_pos1(board, current):\n",
    "    possible_pos = []\n",
    "    positions = [(row, column) for row in range(8) for column in range(8) if board[row][column] == 0]\n",
    "    \n",
    "    for row, column in positions:\n",
    "        if check_position1(board, row, column, current):\n",
    "            possible_pos.append((row, column))\n",
    "\n",
    "    return possible_pos\n"
   ]
  },
  {
   "cell_type": "code",
   "execution_count": 71,
   "metadata": {},
   "outputs": [],
   "source": [
    "board = np.zeros([8,8], dtype='double')\n",
    "board[3][3] = 1\n",
    "board[4][4] = 1\n",
    "board[3][4] = -1\n",
    "board[4][3] = -1\n",
    "curr = 1"
   ]
  },
  {
   "cell_type": "code",
   "execution_count": 73,
   "metadata": {},
   "outputs": [
    {
     "name": "stdout",
     "output_type": "stream",
     "text": "time: 0.230551\ntime: 0.365390\n"
    }
   ],
   "source": [
    "import time\n",
    "\n",
    "start = time.time()\n",
    "for _ in range(1000):\n",
    "    available_pos1(board, curr)\n",
    "end = time.time()\n",
    "print('time: %.6f' %(end-start))\n",
    "\n",
    "board = np.zeros([8,8], dtype='double')\n",
    "board[3][3] = 1\n",
    "board[4][4] = 1\n",
    "board[3][4] = -1\n",
    "board[4][3] = -1\n",
    "curr = 1\n",
    "\n",
    "start = time.time()\n",
    "for _ in range(1000):\n",
    "    available_pos(board, curr)\n",
    "end = time.time()\n",
    "print('time: %.6f' %(end-start))"
   ]
  },
  {
   "cell_type": "code",
   "execution_count": 80,
   "metadata": {},
   "outputs": [
    {
     "data": {
      "text/plain": "{b'\\x00\\x00\\x00\\x00\\x00\\x00\\x00\\x00\\x00\\x00\\x00\\x00\\x00\\x00\\x00\\x00\\x00\\x00\\x00\\x00\\x00\\x00\\x00\\x00\\x00\\x00\\x00\\x00\\x00\\x00\\x00\\x00\\x00\\x00\\x00\\x00\\x00\\x00\\x00\\x00\\x00\\x00\\x00\\x00\\x00\\x00\\x00\\x00\\x00\\x00\\x00\\x00\\x00\\x00\\x00\\x00\\x00\\x00\\x00\\x00\\x00\\x00\\x00\\x00\\x00\\x00\\x00\\x00\\x00\\x00\\x00\\x00\\x00\\x00\\x00\\x00\\x00\\x00\\x00\\x00\\x00\\x00\\x00\\x00\\x00\\x00\\x00\\x00\\x00\\x00\\x00\\x00\\x00\\x00\\x00\\x00\\x00\\x00\\x00\\x00\\x00\\x00\\x00\\x00\\x00\\x00\\x00\\x00\\x00\\x00\\x00\\x00\\x00\\x00\\x00\\x00\\x00\\x00\\x00\\x00\\x00\\x00\\x00\\x00\\x00\\x00\\x00\\x00\\x00\\x00\\x00\\x00\\x00\\x00\\x00\\x00\\x00\\x00\\x00\\x00\\x00\\x00\\x00\\x00\\x00\\x00\\x00\\x00\\x00\\x00\\x00\\x00\\x00\\x00\\x00\\x00\\x00\\x00\\x00\\x00\\x00\\x00\\x00\\x00\\x00\\x00\\x00\\x00\\x00\\x00\\x00\\x00\\x00\\x00\\x00\\x00\\x00\\x00\\x00\\x00\\x00\\x00\\x00\\x00\\x00\\x00\\x00\\x00\\x00\\x00\\x00\\x00\\x00\\x00\\x00\\x00\\x00\\x00\\x00\\x00\\x00\\x00\\x00\\x00\\x00\\x00\\x00\\x00\\x00\\x00\\x00\\x00\\x00\\x00\\x00\\x00\\x00\\x00\\x00\\x00\\x00\\x00\\xf0?\\x00\\x00\\x00\\x00\\x00\\x00\\xf0\\xbf\\x00\\x00\\x00\\x00\\x00\\x00\\x00\\x00\\x00\\x00\\x00\\x00\\x00\\x00\\x00\\x00\\x00\\x00\\x00\\x00\\x00\\x00\\x00\\x00\\x00\\x00\\x00\\x00\\x00\\x00\\x00\\x00\\x00\\x00\\x00\\x00\\x00\\x00\\x00\\x00\\x00\\x00\\x00\\x00\\x00\\x00\\x00\\x00\\x00\\x00\\x00\\x00\\x00\\x00\\xf0\\xbf\\x00\\x00\\x00\\x00\\x00\\x00\\xf0?\\x00\\x00\\x00\\x00\\x00\\x00\\x00\\x00\\x00\\x00\\x00\\x00\\x00\\x00\\x00\\x00\\x00\\x00\\x00\\x00\\x00\\x00\\x00\\x00\\x00\\x00\\x00\\x00\\x00\\x00\\x00\\x00\\x00\\x00\\x00\\x00\\x00\\x00\\x00\\x00\\x00\\x00\\x00\\x00\\x00\\x00\\x00\\x00\\x00\\x00\\x00\\x00\\x00\\x00\\x00\\x00\\x00\\x00\\x00\\x00\\x00\\x00\\x00\\x00\\x00\\x00\\x00\\x00\\x00\\x00\\x00\\x00\\x00\\x00\\x00\\x00\\x00\\x00\\x00\\x00\\x00\\x00\\x00\\x00\\x00\\x00\\x00\\x00\\x00\\x00\\x00\\x00\\x00\\x00\\x00\\x00\\x00\\x00\\x00\\x00\\x00\\x00\\x00\\x00\\x00\\x00\\x00\\x00\\x00\\x00\\x00\\x00\\x00\\x00\\x00\\x00\\x00\\x00\\x00\\x00\\x00\\x00\\x00\\x00\\x00\\x00\\x00\\x00\\x00\\x00\\x00\\x00\\x00\\x00\\x00\\x00\\x00\\x00\\x00\\x00\\x00\\x00\\x00\\x00\\x00\\x00\\x00\\x00\\x00\\x00\\x00\\x00\\x00\\x00\\x00\\x00\\x00\\x00\\x00\\x00\\x00\\x00\\x00\\x00\\x00\\x00\\x00\\x00\\x00\\x00\\x00\\x00\\x00\\x00\\x00\\x00\\x00\\x00\\x00\\x00\\x00\\x00\\x00\\x00\\x00\\x00\\x00\\x00\\x00\\x00\\x00\\x00\\x00\\x00\\x00\\x00\\x00\\x00\\x00\\x00\\x00\\x00\\x00\\x00\\x00\\x00\\x00\\x00\\x00\\x00\\x00\\x00\\x00\\x00\\x00\\x00': [2,\n  1]}"
     },
     "execution_count": 80,
     "metadata": {},
     "output_type": "execute_result"
    }
   ],
   "source": [
    "d = {board.tobytes():[1,1]}\n",
    "d[board.tobytes()][0] += 1\n",
    "d"
   ]
  },
  {
   "cell_type": "code",
   "execution_count": null,
   "metadata": {},
   "outputs": [],
   "source": []
  }
 ]
}