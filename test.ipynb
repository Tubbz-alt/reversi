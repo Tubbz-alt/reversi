{
 "nbformat": 4,
 "nbformat_minor": 2,
 "metadata": {
  "language_info": {
   "name": "python",
   "codemirror_mode": {
    "name": "ipython",
    "version": 3
   }
  },
  "orig_nbformat": 2,
  "file_extension": ".py",
  "mimetype": "text/x-python",
  "name": "python",
  "npconvert_exporter": "python",
  "pygments_lexer": "ipython3",
  "version": 3
 },
 "cells": [
  {
   "cell_type": "code",
   "execution_count": null,
   "metadata": {},
   "outputs": [],
   "source": [
    "import multiprocessing\n",
    "import time\n",
    "\n",
    "def f(i,l):\n",
    "    #time.sleep(2)\n",
    "    l.append(i)\n",
    "\n",
    "#p = multiprocessing.Pool(4)\n",
    "if __name__ == '__main__':\n",
    "    multiprocessing.set_start_method('forkserver')\n",
    "    l = multiprocessing.Manager().list()\n",
    "    a = []\n",
    "    for _ in range(4):\n",
    "        with multiprocessing.Pool(4) as p:\n",
    "\n",
    "            for i in range(40):\n",
    "                p.apply_async(f, args=(i,l))\n",
    "            p.close()\n",
    "            p.join()\n",
    "        print(len(l))\n",
    "\n",
    "    print(a)\n",
    "    print(l)"
   ]
  }
 ]
}